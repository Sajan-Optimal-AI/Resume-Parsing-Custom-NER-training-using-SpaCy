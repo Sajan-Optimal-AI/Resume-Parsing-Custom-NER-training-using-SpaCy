{
  "nbformat": 4,
  "nbformat_minor": 0,
  "metadata": {
    "colab": {
      "name": "Resume Parsing-Custom NER training using SpaCy.ipynb",
      "provenance": [],
      "collapsed_sections": []
    },
    "kernelspec": {
      "name": "python3",
      "display_name": "Python 3"
    },
    "language_info": {
      "name": "python"
    }
  },
  "cells": [
    {
      "cell_type": "code",
      "metadata": {
        "id": "9SYEGel0BxL_"
      },
      "source": [
        "#import dependencies\n",
        "import spacy\n",
        "import pickle\n",
        "import random"
      ],
      "execution_count": 1,
      "outputs": []
    },
    {
      "cell_type": "code",
      "metadata": {
        "colab": {
          "base_uri": "https://localhost:8080/"
        },
        "id": "VldZ7uTaWz4S",
        "outputId": "633cda47-77d7-4370-9555-6b21504b97a1"
      },
      "source": [
        "#Latest Version\n",
        "print(spacy.__version__)"
      ],
      "execution_count": 2,
      "outputs": [
        {
          "output_type": "stream",
          "text": [
            "2.2.4\n"
          ],
          "name": "stdout"
        }
      ]
    },
    {
      "cell_type": "code",
      "metadata": {
        "colab": {
          "base_uri": "https://localhost:8080/"
        },
        "id": "8VIqzv2EZyW-",
        "outputId": "d589c127-21e0-4c92-882a-5ed0b574ae24"
      },
      "source": [
        "#To support codes of all versions of spacy \n",
        "!python -m spacy download nl\n",
        "!pip install pyldavis"
      ],
      "execution_count": 3,
      "outputs": [
        {
          "output_type": "stream",
          "text": [
            "Requirement already satisfied: nl_core_news_sm==2.2.5 from https://github.com/explosion/spacy-models/releases/download/nl_core_news_sm-2.2.5/nl_core_news_sm-2.2.5.tar.gz#egg=nl_core_news_sm==2.2.5 in /usr/local/lib/python3.7/dist-packages (2.2.5)\n",
            "Requirement already satisfied: spacy>=2.2.2 in /usr/local/lib/python3.7/dist-packages (from nl_core_news_sm==2.2.5) (2.2.4)\n",
            "Requirement already satisfied: thinc==7.4.0 in /usr/local/lib/python3.7/dist-packages (from spacy>=2.2.2->nl_core_news_sm==2.2.5) (7.4.0)\n",
            "Requirement already satisfied: srsly<1.1.0,>=1.0.2 in /usr/local/lib/python3.7/dist-packages (from spacy>=2.2.2->nl_core_news_sm==2.2.5) (1.0.5)\n",
            "Requirement already satisfied: plac<1.2.0,>=0.9.6 in /usr/local/lib/python3.7/dist-packages (from spacy>=2.2.2->nl_core_news_sm==2.2.5) (1.1.3)\n",
            "Requirement already satisfied: setuptools in /usr/local/lib/python3.7/dist-packages (from spacy>=2.2.2->nl_core_news_sm==2.2.5) (57.0.0)\n",
            "Requirement already satisfied: preshed<3.1.0,>=3.0.2 in /usr/local/lib/python3.7/dist-packages (from spacy>=2.2.2->nl_core_news_sm==2.2.5) (3.0.5)\n",
            "Requirement already satisfied: cymem<2.1.0,>=2.0.2 in /usr/local/lib/python3.7/dist-packages (from spacy>=2.2.2->nl_core_news_sm==2.2.5) (2.0.5)\n",
            "Requirement already satisfied: catalogue<1.1.0,>=0.0.7 in /usr/local/lib/python3.7/dist-packages (from spacy>=2.2.2->nl_core_news_sm==2.2.5) (1.0.0)\n",
            "Requirement already satisfied: tqdm<5.0.0,>=4.38.0 in /usr/local/lib/python3.7/dist-packages (from spacy>=2.2.2->nl_core_news_sm==2.2.5) (4.41.1)\n",
            "Requirement already satisfied: numpy>=1.15.0 in /usr/local/lib/python3.7/dist-packages (from spacy>=2.2.2->nl_core_news_sm==2.2.5) (1.21.0)\n",
            "Requirement already satisfied: wasabi<1.1.0,>=0.4.0 in /usr/local/lib/python3.7/dist-packages (from spacy>=2.2.2->nl_core_news_sm==2.2.5) (0.8.2)\n",
            "Requirement already satisfied: murmurhash<1.1.0,>=0.28.0 in /usr/local/lib/python3.7/dist-packages (from spacy>=2.2.2->nl_core_news_sm==2.2.5) (1.0.5)\n",
            "Requirement already satisfied: blis<0.5.0,>=0.4.0 in /usr/local/lib/python3.7/dist-packages (from spacy>=2.2.2->nl_core_news_sm==2.2.5) (0.4.1)\n",
            "Requirement already satisfied: requests<3.0.0,>=2.13.0 in /usr/local/lib/python3.7/dist-packages (from spacy>=2.2.2->nl_core_news_sm==2.2.5) (2.23.0)\n",
            "Requirement already satisfied: importlib-metadata>=0.20; python_version < \"3.8\" in /usr/local/lib/python3.7/dist-packages (from catalogue<1.1.0,>=0.0.7->spacy>=2.2.2->nl_core_news_sm==2.2.5) (4.5.0)\n",
            "Requirement already satisfied: certifi>=2017.4.17 in /usr/local/lib/python3.7/dist-packages (from requests<3.0.0,>=2.13.0->spacy>=2.2.2->nl_core_news_sm==2.2.5) (2021.5.30)\n",
            "Requirement already satisfied: idna<3,>=2.5 in /usr/local/lib/python3.7/dist-packages (from requests<3.0.0,>=2.13.0->spacy>=2.2.2->nl_core_news_sm==2.2.5) (2.10)\n",
            "Requirement already satisfied: urllib3!=1.25.0,!=1.25.1,<1.26,>=1.21.1 in /usr/local/lib/python3.7/dist-packages (from requests<3.0.0,>=2.13.0->spacy>=2.2.2->nl_core_news_sm==2.2.5) (1.24.3)\n",
            "Requirement already satisfied: chardet<4,>=3.0.2 in /usr/local/lib/python3.7/dist-packages (from requests<3.0.0,>=2.13.0->spacy>=2.2.2->nl_core_news_sm==2.2.5) (3.0.4)\n",
            "Requirement already satisfied: zipp>=0.5 in /usr/local/lib/python3.7/dist-packages (from importlib-metadata>=0.20; python_version < \"3.8\"->catalogue<1.1.0,>=0.0.7->spacy>=2.2.2->nl_core_news_sm==2.2.5) (3.4.1)\n",
            "Requirement already satisfied: typing-extensions>=3.6.4; python_version < \"3.8\" in /usr/local/lib/python3.7/dist-packages (from importlib-metadata>=0.20; python_version < \"3.8\"->catalogue<1.1.0,>=0.0.7->spacy>=2.2.2->nl_core_news_sm==2.2.5) (3.7.4.3)\n",
            "\u001b[38;5;2m✔ Download and installation successful\u001b[0m\n",
            "You can now load the model via spacy.load('nl_core_news_sm')\n",
            "\u001b[38;5;2m✔ Linking successful\u001b[0m\n",
            "/usr/local/lib/python3.7/dist-packages/nl_core_news_sm -->\n",
            "/usr/local/lib/python3.7/dist-packages/spacy/data/nl\n",
            "You can now load the model via spacy.load('nl')\n",
            "Requirement already satisfied: pyldavis in /usr/local/lib/python3.7/dist-packages (3.3.1)\n",
            "Requirement already satisfied: setuptools in /usr/local/lib/python3.7/dist-packages (from pyldavis) (57.0.0)\n",
            "Requirement already satisfied: gensim in /usr/local/lib/python3.7/dist-packages (from pyldavis) (3.6.0)\n",
            "Requirement already satisfied: future in /usr/local/lib/python3.7/dist-packages (from pyldavis) (0.16.0)\n",
            "Requirement already satisfied: numpy>=1.20.0 in /usr/local/lib/python3.7/dist-packages (from pyldavis) (1.21.0)\n",
            "Requirement already satisfied: scikit-learn in /usr/local/lib/python3.7/dist-packages (from pyldavis) (0.22.2.post1)\n",
            "Requirement already satisfied: pandas>=1.2.0 in /usr/local/lib/python3.7/dist-packages (from pyldavis) (1.2.5)\n",
            "Requirement already satisfied: numexpr in /usr/local/lib/python3.7/dist-packages (from pyldavis) (2.7.3)\n",
            "Requirement already satisfied: joblib in /usr/local/lib/python3.7/dist-packages (from pyldavis) (1.0.1)\n",
            "Requirement already satisfied: funcy in /usr/local/lib/python3.7/dist-packages (from pyldavis) (1.16)\n",
            "Requirement already satisfied: sklearn in /usr/local/lib/python3.7/dist-packages (from pyldavis) (0.0)\n",
            "Requirement already satisfied: scipy in /usr/local/lib/python3.7/dist-packages (from pyldavis) (1.4.1)\n",
            "Requirement already satisfied: jinja2 in /usr/local/lib/python3.7/dist-packages (from pyldavis) (2.11.3)\n",
            "Requirement already satisfied: smart-open>=1.2.1 in /usr/local/lib/python3.7/dist-packages (from gensim->pyldavis) (5.1.0)\n",
            "Requirement already satisfied: six>=1.5.0 in /usr/local/lib/python3.7/dist-packages (from gensim->pyldavis) (1.15.0)\n",
            "Requirement already satisfied: python-dateutil>=2.7.3 in /usr/local/lib/python3.7/dist-packages (from pandas>=1.2.0->pyldavis) (2.8.1)\n",
            "Requirement already satisfied: pytz>=2017.3 in /usr/local/lib/python3.7/dist-packages (from pandas>=1.2.0->pyldavis) (2018.9)\n",
            "Requirement already satisfied: MarkupSafe>=0.23 in /usr/local/lib/python3.7/dist-packages (from jinja2->pyldavis) (2.0.1)\n"
          ],
          "name": "stdout"
        }
      ]
    },
    {
      "cell_type": "code",
      "metadata": {
        "id": "jj07kVhqyBI0"
      },
      "source": [
        "#Training Data:\n",
        "#The data consists of the contents of the resume which is extracted from a PDF file, \n",
        "#followed by a dictionary consisting of a label and the start and end index of the value in the resume."
      ],
      "execution_count": 4,
      "outputs": []
    },
    {
      "cell_type": "code",
      "metadata": {
        "colab": {
          "base_uri": "https://localhost:8080/"
        },
        "id": "8G01DkZ5bYSt",
        "outputId": "396a41c9-9125-4bff-faeb-fe586e23b5f6"
      },
      "source": [
        "#Import the data in pickle form:\n",
        "train_data = pickle.load(open('/content/drive/MyDrive/train_data (1).pkl', 'rb'))\n",
        "train_data[0]"
      ],
      "execution_count": 5,
      "outputs": [
        {
          "output_type": "execute_result",
          "data": {
            "text/plain": [
              "('Govardhana K Senior Software Engineer  Bengaluru, Karnataka, Karnataka - Email me on Indeed: indeed.com/r/Govardhana-K/ b2de315d95905b68  Total IT experience 5 Years 6 Months Cloud Lending Solutions INC 4 Month • Salesforce Developer Oracle 5 Years 2 Month • Core Java Developer Languages Core Java, Go Lang Oracle PL-SQL programming, Sales Force Developer with APEX.  Designations & Promotions  Willing to relocate: Anywhere  WORK EXPERIENCE  Senior Software Engineer  Cloud Lending Solutions -  Bangalore, Karnataka -  January 2018 to Present  Present  Senior Consultant  Oracle -  Bangalore, Karnataka -  November 2016 to December 2017  Staff Consultant  Oracle -  Bangalore, Karnataka -  January 2014 to October 2016  Associate Consultant  Oracle -  Bangalore, Karnataka -  November 2012 to December 2013  EDUCATION  B.E in Computer Science Engineering  Adithya Institute of Technology -  Tamil Nadu  September 2008 to June 2012  https://www.indeed.com/r/Govardhana-K/b2de315d95905b68?isid=rex-download&ikw=download-top&co=IN https://www.indeed.com/r/Govardhana-K/b2de315d95905b68?isid=rex-download&ikw=download-top&co=IN   SKILLS  APEX. (Less than 1 year), Data Structures (3 years), FLEXCUBE (5 years), Oracle (5 years), Algorithms (3 years)  LINKS  https://www.linkedin.com/in/govardhana-k-61024944/  ADDITIONAL INFORMATION  Technical Proficiency:  Languages: Core Java, Go Lang, Data Structures & Algorithms, Oracle PL-SQL programming, Sales Force with APEX. Tools: RADTool, Jdeveloper, NetBeans, Eclipse, SQL developer, PL/SQL Developer, WinSCP, Putty Web Technologies: JavaScript, XML, HTML, Webservice  Operating Systems: Linux, Windows Version control system SVN & Git-Hub Databases: Oracle Middleware: Web logic, OC4J Product FLEXCUBE: Oracle FLEXCUBE Versions 10.x, 11.x and 12.x  https://www.linkedin.com/in/govardhana-k-61024944/',\n",
              " {'entities': [(1749, 1755, 'Companies worked at'),\n",
              "   (1696, 1702, 'Companies worked at'),\n",
              "   (1417, 1423, 'Companies worked at'),\n",
              "   (1356, 1793, 'Skills'),\n",
              "   (1209, 1215, 'Companies worked at'),\n",
              "   (1136, 1248, 'Skills'),\n",
              "   (928, 932, 'Graduation Year'),\n",
              "   (858, 889, 'College Name'),\n",
              "   (821, 856, 'Degree'),\n",
              "   (787, 791, 'Graduation Year'),\n",
              "   (744, 750, 'Companies worked at'),\n",
              "   (722, 742, 'Designation'),\n",
              "   (658, 664, 'Companies worked at'),\n",
              "   (640, 656, 'Designation'),\n",
              "   (574, 580, 'Companies worked at'),\n",
              "   (555, 573, 'Designation'),\n",
              "   (470, 493, 'Companies worked at'),\n",
              "   (444, 469, 'Designation'),\n",
              "   (308, 314, 'Companies worked at'),\n",
              "   (234, 240, 'Companies worked at'),\n",
              "   (175, 198, 'Companies worked at'),\n",
              "   (93, 137, 'Email Address'),\n",
              "   (39, 48, 'Location'),\n",
              "   (13, 38, 'Designation'),\n",
              "   (0, 12, 'Name')]})"
            ]
          },
          "metadata": {
            "tags": []
          },
          "execution_count": 5
        }
      ]
    },
    {
      "cell_type": "code",
      "metadata": {
        "id": "rM6R2hnIbg5V"
      },
      "source": [
        "#Model Building\n",
        "nlp = spacy.blank('en')\n",
        "\n",
        "def train_model(train_data):\n",
        "    if 'ner' not in nlp.pipe_names:\n",
        "        ner = nlp.create_pipe('ner')\n",
        "        nlp.add_pipe(ner, last = True)\n",
        "    \n",
        "    for _, annotation in train_data:\n",
        "        for ent in annotation['entities']:\n",
        "            ner.add_label(ent[2])\n",
        "            \n",
        "    \n",
        "    other_pipes = [pipe for pipe in nlp.pipe_names if pipe != 'ner']\n",
        "    with nlp.disable_pipes(*other_pipes):  # only train NER\n",
        "        optimizer = nlp.begin_training()\n",
        "        for itn in range(10):\n",
        "            print(\"Statring iteration \" + str(itn))\n",
        "            random.shuffle(train_data)\n",
        "            losses = {}\n",
        "            index = 0\n",
        "            for text, annotations in train_data:\n",
        "                try:\n",
        "                    nlp.update(\n",
        "                        [text],  # batch of texts\n",
        "                        [annotations],  # batch of annotations\n",
        "                        drop=0.2,  # dropout - make it harder to memorise data\n",
        "                        sgd=optimizer,  # callable to update weights\n",
        "                        losses=losses)\n",
        "                except Exception as e:\n",
        "                    pass\n",
        "                \n",
        "            print(losses)"
      ],
      "execution_count": 6,
      "outputs": []
    },
    {
      "cell_type": "code",
      "metadata": {
        "colab": {
          "base_uri": "https://localhost:8080/"
        },
        "id": "XBoKEWUqbnu7",
        "outputId": "afd347b8-eb32-4d6b-cc1a-6af61b6482b7"
      },
      "source": [
        "train_model(train_data)"
      ],
      "execution_count": 7,
      "outputs": [
        {
          "output_type": "stream",
          "text": [
            "Statring iteration 0\n",
            "{'ner': 9662.9684827991}\n",
            "Statring iteration 1\n",
            "{'ner': 10881.860874334552}\n",
            "Statring iteration 2\n",
            "{'ner': 9231.693189548072}\n",
            "Statring iteration 3\n",
            "{'ner': 6978.71988298404}\n",
            "Statring iteration 4\n",
            "{'ner': 6859.903828134332}\n",
            "Statring iteration 5\n",
            "{'ner': 7585.600888044513}\n",
            "Statring iteration 6\n",
            "{'ner': 7011.657694526}\n",
            "Statring iteration 7\n",
            "{'ner': 5093.812266804907}\n",
            "Statring iteration 8\n",
            "{'ner': 5391.867579339394}\n",
            "Statring iteration 9\n",
            "{'ner': 4668.503320905883}\n"
          ],
          "name": "stdout"
        }
      ]
    },
    {
      "cell_type": "code",
      "metadata": {
        "id": "nVpR7fbteFjs"
      },
      "source": [
        "nlp.to_disk('nlp_model')"
      ],
      "execution_count": 17,
      "outputs": []
    },
    {
      "cell_type": "code",
      "metadata": {
        "id": "6jkwtTgOeJIT"
      },
      "source": [
        "nlp_model = spacy.load('nlp_model')"
      ],
      "execution_count": 18,
      "outputs": []
    },
    {
      "cell_type": "code",
      "metadata": {
        "colab": {
          "base_uri": "https://localhost:8080/",
          "height": 103
        },
        "id": "OqgU5BzudISz",
        "outputId": "f6445f15-9d47-49df-8672-3a337071f0e2"
      },
      "source": [
        "#Test the trained model with existing data:\n",
        "train_data[0][0]"
      ],
      "execution_count": 15,
      "outputs": [
        {
          "output_type": "execute_result",
          "data": {
            "application/vnd.google.colaboratory.intrinsic+json": {
              "type": "string"
            },
            "text/plain": [
              "\"Srinivas VO Sr. Test Manager  Mumbai, Maharashtra - Email me on Indeed: indeed.com/r/Srinivas-VO/39c80e42cb6bc97f  A Test Manager, with a track record of 15+Yrs ( 4yrs UK onsite) delivering major test solutions for global projects ($40m) on behalf of leading blue chip organisations. Delivering IT solutions, ranging from simple to complex and challenging projects and programs, establishing an enviable record of on-time, high quality & added value delivery. ● Testing capabilities to existing customers and prospective customers during client visits / at customer location. ● Own and Support RFI/RFPs, proposal walkthroughs and presentations and Transition knowledge from pre-sales to delivery, in case of project win ● Analyze proposal requirements in direct relation with clients, and provide innovative solutions, as part of proposals ● Develop proof of concepts to prospects during pre-sales phase, Provide test consulting services, on demand & Collate repository from delivery team, along with case studies for use in proposals, presentations and consulting ● Pipeline building through new opportunities, cross-selling, up-selling and Establish communication with Geo Sales and other streams of business ● Maintain Order Book, Win /Loss analysis, pre-sales metrics ● Handle any technical question or issue which arises during a sales cycle and setting appropriate customer expectations. ● Independently executes strategic leadership to others in identifying opportunities and Expert in driving pilots/proof of concepts. ● Talented in handling extremely risk and competitive situations and responsible for product and services, revenue goals at team and regional level. ● Proposed and implemented TCoE setup for 2 major clients, which helped in improving the productivity by reducing the staffing and operational cost by 25%. ● Involved in setup for Custom Application Testing Services (Oracle R12, Siebel, Fusion etc., ) in Oracle SSI & Testing Centre of Excellence (TCoE) ● Ability to excite customers, generate awareness of new possibilities that can yield additional revenue. ● Planning, scheduling and tracking of the project modules and conducted trainings across teams and Experience in proposals for the projects, resource planning and estimations. ● Extensive experience on bid management, PMO process, risk management and prepared project management office documents. ● Expertise in building automation frameworks for Front to back testing of Retail / Healthcare/ Telecom/ BFSI/Supply Chain Trading applications ● Expertise in design, development and implementation of frameworks using UNIX, Java, .Net, VB, SQL, XML, SWIFT, MQ and FMW. ● Experience in E2E testing of variety of Oracle Applications: ● Oracle Retail: Oracle RMS, RPM, REIM, SIM etc. ● Oracle Ebusiness Suite R12: AP, AR, GL, OM, PA, CM, TM ● Oracle IDM: OAM, OIM, OVD, OID, SSO ● Oracle Siebel: Public Sector, Call Center Apps, Ebilling Apps ● Oracle Fusion Applications: Fusion HCM, R12, OBIEE ● Oracle Transportation Management: Order Management, Shipments, Transport Request management, Routing and Consolidation  https://www.indeed.com/r/Srinivas-VO/39c80e42cb6bc97f?isid=rex-download&ikw=download-top&co=IN   ● Oracle FlexCube & Oracle Health Sciences: Oracle® Clinical ● Oracle Communications: Billing and Revenue Management (BRS), Order Management and Order Fulfillment (OMOF) ● Experience in managing large diversified team across geographies ● Experience includes customization of methodologies for the business needs and deploying them into programs/projects ● Experience in proposing out of box solutions for automation and convincing clients on alternate solutions and investments in automation using ● Oracle Tools (OATS, Oracle Load Tester, Oracle Test Manager) ● HP Tools (QTP, Load Runner, Test Director, Performance Centre) ● Rational Suite (Reqpro, RA, Rational Robot, RFT, RPT, RCC, RCQ) ● Open Source / Other Tools: Selenium Webdriver 2.0, Testng, JMeter, Appium, Junit, Cucumber, JIRA, Maven, SOAPUI, Jbehave, BDD etc., ● A strategic thinker, problem solver, project implementer and change leader, who has consistently provided organizations with added value as they move towards achieving their objectives. ● Helped many large and small organizations to establish sound project & management practices integrated into the corporate framework to deliver projects, programs and managed portfolios. ● Ability to identify business value in customer needs and translate to innovative solutions communicating the requirements & mission, in context, to both management & IT & Quality development, using sound, proven and valued management practices through integrated best processes from clients and IT Governance Frameworks (RUP, CMMI and ISO)  Solution Sectors Service successes in: Logistics & SCM, Investment Banking, Public Sector, Financial, Banking, Retail, Health Sciences, Telecom, Real Estate, Hospitality, Outsourcing, Project Management, Knowledge Management & Performance Management.  Clientele DHL (UK), Mobily (Saudi Arabia), UBS (London, UK), Rolls Royce (Derby, UK), TNT (Hinckley, UK), RCUK (Research Councils, Swindon, UK), ADAT (Middle East), OHI (Netherlands), Citibank (USA), Transurban (Australia), BCBS (Blue Cross Blue Shield, USA) etc.  Willing to relocate: Anywhere  WORK EXPERIENCE  QA Manager  Tracelink -  Mumbai, Maharashtra -  April 2017 to October 2017  ➔ Define, evangelize, and implement global, unified agile delivery processes; select common tools; specify core quality-measurement KPIs,expand automated-testing in Continuous Integration environment ➔ Project Manager and Scrum Master of company's highest priority Tracelink Products & Tracelink L3 Support Projects recognized by executive management as the model for    project organization and execution. ➔ Manage and administer relations, budgets, and contracts with outsourcing vendor ➔ Define the test strategy and approach for one or many products, provide quality assurance leadership, and be ultimately responsible for ensuring product quality ➔ Perform hands-on job that requires strategic thinking and planning to provide leadership and expertise throughout the entire QA life cycle, ensuring the success of the team's manual and automation efforts ➔ Lead efforts to develop, document, and implement applicable QA processes and procedures to provide more effective quality methods within the group in support of providing quality products ➔ Create, implement, maintain, and enhance test plans, test scripts, and test methodologies to ensure comprehensive test coverage ➔ Develop world class automation for regression and feature testing ➔ Work closely with all stakeholders to ensure project alignment ➔ Provide quarterly presentations to executive staff on QA accomplishments and future vision and goals Environment: Amazon Cloud Services (Habari, Elasticache, Cloud Search, Dynamo, RDS, Redis, Amazon RedShift), Java, Scala, Selenium Webdriver, Jmeter etc.,  Sr. Test Manager  confidential -  Bengaluru, Karnataka -  July 2013 to March 2017  Test Manager, Client  Oracle SSI -  London -  January 2011 to November 2012  London Description: Oracle will provide services to Manage process workshops with UBS to map the Oracle Fusion Human Capital Management (HCM) applications processes to UBS's global processes. Implement Oracle Fusion HCM applications within an Oracle. Software as a Service (SaaS) environment. Support UBS with the mapping of the Oracle Fusion Applications data structures to UBS's current PeopleSoft 8.8 system and then design, develop and unit test data load routines. This will include the definition of the reconciliation process. Configure and system test the application modules to support the Level 3 standard business processes and the UBS functional requirements identified. Responsibilities: Developed High Level Test Strategy for UBS - Group HR Applications (Viz., Workforce Management, Recruitment and Talent Management, Compensation management, Payrolls, Learning and Development, HR Service Management) Involved in Setting up Test Environments Viz., (System Testing, SIT, Conversion Testing, Security    Testing, Cutover Testing, Performance Testing, UAT) Developed Master Test Plans for Oracle Fusion HCM Applications (Viz., Compensation Management, WorkForce Management, Recruitment and Talent Management) & Non Fusion Oracle Applications (viz., Service Management) Developed High Level Test Requirements for Workforce Deployment, Workforce development, System Test Cases for Workforce Management, Fusion Personalization Review Test Scripts for Fusion HCM Applications & Non Fusion Applications Track and prepare the report of testing activities like test testing results, test case coverage, required resources, defects discovered and their status, performance baselines etc. Developed Test Automation Strategy & Automation Framework for Fusion HCM SAAS Applications. Involved in Setting up Test Automation Infrastructure Environment for Automation Test Assists: a. Test project Setup, Roles and Test planning using Oracle Test Manager  b. Functional Test Script Development using Oracle Open Script  c. Performance Test Script Development Using Oracle Load Tester Ensure the timely delivery of different testing milestones. Conducted LESS (Load Testing, Endurance Testing, Stress Testing, Spike Testing) Testing Activities for Fusion HCM SAAS Applications.  Title: WMI, Period: Oct '2010 - Dec '2011 Project Description: The world's largest retailer implements Oracle Retail applications including Oracle Retail Merchandise System, Oracle Retail Allocation and other elements of the Oracle Retail Suite as part of its merchandising transformation initiatives. Responsibilities: ● Direct Client dealings. Getting information from client on requirement for areas where in our expertise in testing can be used and giving proposal. ● Developed Domain Level Test Strategy ● Manage entire testing activities from Functional test preparation/execution, Integration test preparation/execution, System test preparation/execution ● Prepared scheduled plan for the client and updating the same in Microsoft Project Plan effective tracking of progress of project. ● Tracking of testing progress in all areas and pointing out gaps to be filled to Client and own resources. ● Review daily and weekly Testers' status reports and take necessary actions and assessing the progress and effectiveness of the test effort ● Provide estimation for manual and automation testing areas. ● Tested Oracle Retail Applications ( RMS, RPM, Allocation etc., ) ● Track Schedule and Effort deviation tracking in internal tracking tool. ● Co-ordination of work between resources from India, USA ● Expertise in QTP and coming out with an automation framework proposal for the client showing casing advantages of an automated approach    Test / Project Management  Oracle SSI -  Bangalore, Karnataka -  May 2008 to November 2012  Managed 2 Project and Several minor releases with 50+ members Team of Test leads, Sr. test engineer, Test Engineers.  Title: UBS - Fusion HCM SAAS Implementation  EDUCATION  MSC in Computer science  Nagarjuna University  BSC in Computer science  Kakatiya University  SKILLS  Testing (10+ years), Program Management (10+ years), Automation Testing (10+ years), Selenium Webdriver (4 years), Project Management (10+ years), Java (10+ years), AWS (10+ years), Cloud Computing (4 years)  ADDITIONAL INFORMATION  Expertise Involved and excelling in enterprise-wide initiatives, complex and time-critical business projects providing distinctive leadership at the following levels: ● Account Management: Understanding inter-related services of the organization; representing organization within an account; selling entire portfolio of enterprise services; strategy to action by suggesting right processes, skills, culture (people), technology and content; effectively maintaining relationships with customers. Understanding key challenges of the customer; financial performance of the client; competitors within the account; technology budget or spend; client spend on consulting. Key functions: business consulting; aligning IT to business; application portfolio review; business analysis/requirements; KPIs/scorecards; involved in writing; implementing and tracking account plans; estimating budgets; business cases; RFPs; proposals and business presentations. ● Test Manager: Onsite / Offshore Operations: Involved in all key initiatives of the enterprise with all vendors, pre sales activities, customer engagement, writing proposals, and Test consulting.    Established and managed practice improvement forum onsite with 50+ associates providing inputs to testing practice and provided lots of trainings. ● Portfolio/Programme/Project Management level: Delivering programs and projects in managed portfolios from Initiation Business Case & Charter, through Requirements, Planning, Budgeting, Execution & Release Management, to closeout review while providing auditable progress & deliverable completion visible to the project team, Management and stakeholders. IT projects covering custom solutions, shrink-wrap product development, & commercial off-the-shelf development & integration. ● Management and Governance establishing governance criteria and enforcing these through effective performance management & strategic planning; developing new opportunities; preparing business cases, POC, POS and application review mechanisms; ensuring measurably high customer satisfaction; setting BU objectives, educating, mentoring & guiding Sales & Marketing resources. Developing collaborative relationships with customers, vendors, and product support leaders. Providing integrated approach to CMMI, Earned Value, ROI, Training Plans, Satisfaction & Expectation Management, and Reporting. ● Project Office, Project Procurement & Financial Management, developing, establishing & maintaining PMO services, Organizational Governance tools & Systems, Traceability Matrix, project & master Schedules, project Plans, Resource Profiles, organizational Capacity Management, Cost, Risk & Issue, Integration sequence, Communication Plans, Mentoring, Training, Templates, & Performance, for all PMBOK and CMMI disciplines. ● Architecture, developing frameworks helpful for enterprises on strategic reuse, testing strategy, automation strategy, plans supporting Business Continuity essential to maintaining and communicating & solutions for business, development & stakeholder leaders & members. ● Leadership, strong skills in Leadership, Motivation, Negotiation, Team building, Mentoring, Training, Facilitation, Dispute Resolution, Collaboration, Communication & Organization Development. ● Process Engineering, Quality Assurance, Quality Control & Configuration Management, Involved in SDLC definition and customization and method adaptation, process optimization, Enterprise-Wide Road Map for Standards Establishment, Components for Enterprise-Wide Standards, Standards Enforcement, Quality Assurance Continuum, Quality Control Continuum, developing various test frameworks, methodologies and processes, Standard CMMI Appraisal method for Process Improvement (SCAMPI), establishing Quality Objectives, Goals, Metrics, Forecasts, Enterprise level Test strategies, & tools, applying to IT Governance Frameworks.  Personal Strengths: ● Provides direction and leadership with strong interpersonal and team building skills ● Successfully works with people within and across organizational boundaries to build agreements, guidelines, and standards in order to resolve issues and create consistent practices. ● Strong practitioner of clearly written purposeful communication and direction ● Developing solutions to deliver quality products to clients through people and processes\""
            ]
          },
          "metadata": {
            "tags": []
          },
          "execution_count": 15
        }
      ]
    },
    {
      "cell_type": "code",
      "metadata": {
        "colab": {
          "base_uri": "https://localhost:8080/"
        },
        "id": "zeO7WNOydEjV",
        "outputId": "92be051a-984f-45d5-e7b2-f181177b3974"
      },
      "source": [
        "train_data[0][1]"
      ],
      "execution_count": 13,
      "outputs": [
        {
          "output_type": "execute_result",
          "data": {
            "text/plain": [
              "{'entities': [(11201, 11409, 'Skills'),\n",
              "  (11172, 11191, 'College Name'),\n",
              "  (11147, 11171, 'Degree'),\n",
              "  (11125, 11145, 'College Name'),\n",
              "  (11100, 11123, 'Degree'),\n",
              "  (6954, 6970, 'Designation'),\n",
              "  (5332, 5338, 'Location'),\n",
              "  (5307, 5317, 'Designation'),\n",
              "  (3111, 3152, 'Email Address'),\n",
              "  (72, 113, 'Email Address'),\n",
              "  (30, 36, 'Location'),\n",
              "  (12, 28, 'Designation'),\n",
              "  (0, 11, 'Name')]}"
            ]
          },
          "metadata": {
            "tags": []
          },
          "execution_count": 13
        }
      ]
    },
    {
      "cell_type": "code",
      "metadata": {
        "colab": {
          "base_uri": "https://localhost:8080/"
        },
        "id": "Lf3rXCcpd9D0",
        "outputId": "d30475eb-2957-4bd1-aa91-2ae459c5fd08"
      },
      "source": [
        "doc = nlp_model(train_data[0][0])\n",
        "for ent in doc.ents:\n",
        "    print(f'{ent.label_.upper():{30}}- {ent.text}')"
      ],
      "execution_count": 19,
      "outputs": [
        {
          "output_type": "stream",
          "text": [
            "NAME                          - Srinivas VO\n",
            "DESIGNATION                   - Sr. Test Manager\n",
            "LOCATION                      - Mumbai\n",
            "EMAIL ADDRESS                 - indeed.com/r/Srinivas-VO/39c80e42cb6bc97f\n",
            "DESIGNATION                   - QA Manager\n",
            "DEGREE                        - MSC in Computer science\n",
            "COLLEGE NAME                  - Nagarjuna University\n",
            "DEGREE                        - BSC in Computer science\n",
            "COLLEGE NAME                  - Kakatiya University\n",
            "SKILLS                        - Testing (10+ years), Program Management (10+ years), Automation Testing (10+ years), Selenium Webdriver (4 years), Project Management (10+ years), Java (10+ years), AWS (10+ years), Cloud Computing (4 years)\n"
          ],
          "name": "stdout"
        }
      ]
    },
    {
      "cell_type": "code",
      "metadata": {
        "colab": {
          "base_uri": "https://localhost:8080/"
        },
        "id": "RHc3pUSKeV8H",
        "outputId": "6830a3bd-7d6c-44ab-c9a8-1ac1bf35dd1c"
      },
      "source": [
        "#To convert reumes to text\n",
        "!pip install PyMuPDF"
      ],
      "execution_count": 20,
      "outputs": [
        {
          "output_type": "stream",
          "text": [
            "Collecting PyMuPDF\n",
            "\u001b[?25l  Downloading https://files.pythonhosted.org/packages/ef/43/84a502a902f5045108b6264a054ea1b50b479f247879c7a66c0d190be44e/PyMuPDF-1.18.14-cp37-cp37m-manylinux2010_x86_64.whl (6.4MB)\n",
            "\u001b[K     |████████████████████████████████| 6.4MB 13.7MB/s \n",
            "\u001b[?25hInstalling collected packages: PyMuPDF\n",
            "Successfully installed PyMuPDF-1.18.14\n"
          ],
          "name": "stdout"
        }
      ]
    },
    {
      "cell_type": "code",
      "metadata": {
        "colab": {
          "base_uri": "https://localhost:8080/"
        },
        "id": "HdTCi85-eZJr",
        "outputId": "01999dcf-42ef-44d5-ace2-5148b4f9b73a"
      },
      "source": [
        "#Try new resume \n",
        "import sys, fitz\n",
        "fname = '/content/drive/MyDrive/Sajan One Page.pdf'\n",
        "doc = fitz.open(fname)\n",
        "text = \"\"\n",
        "for page in doc:\n",
        "    text = text + str(page.getText())\n",
        "\n",
        "tx = \" \".join(text.split('\\n'))\n",
        "print(tx)"
      ],
      "execution_count": 21,
      "outputs": [
        {
          "output_type": "stream",
          "text": [
            "                        PON SUDHIR SAJAN S.S  RESUME OBJECTIVE    sssajanaero89@gmail.com  +91-9080980219  28, Pallivilai, Vetturnimadam,  Nagercoil-629003  PROFESSIONAL EXPERIENCE  pon-sudhir-sajan-s-s-0b2687188  RESEARCH INTEREST    •  Machine Learning  •  Deep Learning  •  Natural Language Processing  •  Computer Vision  •  Time Series Forecasting  •  Aerospace AI Applications    SKILLS  <Python>  ✓ TensorFlow  ✓ Keras  ✓  PyTorch  ✓ Scikit-learn  ✓ Numpy , Pandas, Matplotlib       CERTIFICATION  “Certification on PyTorch”  2x3Gt11L2S262NC749    “Deep Convolutional Neural Networks”  8uUZie246Y127h7j30    “Encoder Decoder Models”  4l60zM756105L422Pb    ”Object Detection”  8073Dj6h295xf2Z135    “Training Feedforward Neural  Networks”  7ng21568620U21h06G    @GUVI Geek Networks, IITM Research Park  REFERENCE         Mr.K.Samuel  (Emp.id:399)  Software Engineer (ML)  CapeStart   samuel-k-6a609253   +91-9789254242    Experienced Faculty in the domain of Aerospace Engineering and Aviation  Management is now actively looking to complete the transformation of becoming  into a Data Engineer at your organization.            FACULTY /AERONAUTICAL ENGINEERING  NOORUL ISLAM CENTRE FOR HIGHER EDUCATION / AUG-2014 to Present  •  Imparting technical as well management courses regarding Aeronautical,  Aerospace, and Aircraft Maintenance to the students.   •  Full pledged research support to the academicians and students in the area  of Machine Learning especially.  •  Acted as a ‘Documentation Coordinator’ thereby yielded full support  towards Data preparation and stacking and contributed effectively in  UGC/AICTE, NAAC Accreditation work.    CAREER MILESTONES  RESEARCH SUPPORT  •  Extended my support to implement Machine Learning Algorithm to number  of researchers who works on problem statements includes Stress Analysis,  Automatic Unconventional Machining and Reverse Logistics.  EXPERTISE IN DEEP LEARNING  https://github.com/Sajan-Optimal-AI   A. Encoder Decoder Models   ✓ ‘Machine Translation’ is implemented by Gating Mechanism such as LSTM  and GRU are used.Framework:PyTorch  ✓ ‘Chatbot’ is implemented by using Bahdanau Attention Mechanism.  Framework: TensorFlow  B. Feedforward Neural Network  ✓ ‘Advanced House Price Prediction’. Framework:PyTorch  C. Convolution Neural Network  ✓ ‘Image Classification’ is implemented by using Transfer learning technique.  Framework: TensorFlow   D. Time Series Forecasting  ✓ ‘Stock Price Prediction and Forecasting’ is implemented through LSTM.  Framework: TensorFlow.  PUBLICATIONS  •  “Experimental Wear Study between Piston Ring and Cylinder Liner Pair  with Mahua Oil as Lubricant for Automobiles”, International Journal of  Vehicle Structures & Systems 2020.  •  “A review on green hybrid composites – (Glass-Sisal-Bamboo) for aircraft  structural applications”, International journal of advance research, ideas and  innovations in technology 2019.  •   “Wear characteristics of titanium carbides and MOS2 reinforced aluminium  hybrid composites”, International Journal of Mechanical and Production  Engineering Research and Development 2018.  •  ”Introduction to Natural Fibers and Modification of Fibers to Meet Process  Difficulties”, ManTech publications 2018.          EDUCATION  •  B.E /Aeronautical Engineering (2006-2010)                Lord Jegannath Engineering College, Nagercoil  •  M.B.A / Airport and Aviation Management (2010-2012)  Anna University, Chennai  •  M.E /Aeronautical Engineering (2012-2014)  Noorul Islam Centre for Higher Education, Thuckalay      \n"
          ],
          "name": "stdout"
        }
      ]
    },
    {
      "cell_type": "code",
      "metadata": {
        "colab": {
          "base_uri": "https://localhost:8080/"
        },
        "id": "gDXq65bleoEj",
        "outputId": "dc099ba0-2ddc-4187-980e-30f0bd3dfc43"
      },
      "source": [
        "doc = nlp_model(tx)\n",
        "for ent in doc.ents:\n",
        "    print(f'{ent.label_.upper():{30}}- {ent.text}')"
      ],
      "execution_count": 22,
      "outputs": [
        {
          "output_type": "stream",
          "text": [
            "NAME                          - PON SUDHIR SAJAN\n",
            "DESIGNATION                   - Software Engineer\n",
            "DEGREE                        - B.E /Aeronautical Engineering (2006\n",
            "COLLEGE NAME                  - Nagercoil\n",
            "DEGREE                        - M.B.A / Airport and Aviation Management (2010\n",
            "COLLEGE NAME                  - Anna University\n",
            "SKILLS                        - M.E /Aeronautical Engineering (2012\n",
            "GRADUATION YEAR               - 2014\n"
          ],
          "name": "stdout"
        }
      ]
    },
    {
      "cell_type": "markdown",
      "metadata": {
        "id": "b_94Hqbtf9Q1"
      },
      "source": [
        "Results are not doing outstanding with complex resumes ..but doing fine with the resumes of simplest layouts."
      ]
    }
  ]
}